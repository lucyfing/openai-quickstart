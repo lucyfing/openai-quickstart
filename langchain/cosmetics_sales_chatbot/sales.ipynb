{
 "cells": [
  {
   "cell_type": "markdown",
   "id": "69032b4b-b031-4020-beb0-e8dfd22b660e",
   "metadata": {},
   "source": [
    "# LangChain 实战：化妆品销售聊天机器人"
   ]
  },
  {
   "cell_type": "code",
   "execution_count": 6,
   "id": "88378ac8-01b2-4dd9-84bf-8965bb1b8903",
   "metadata": {},
   "outputs": [],
   "source": [
    "import os\n",
    "os.environ['OPENAI_API_KEY'] = 'XXX'\n",
    "os.environ['OPENAI_BASE_URL'] = 'XXX'"
   ]
  },
  {
   "cell_type": "code",
   "execution_count": 7,
   "id": "efcee928-b9f4-4e4a-b9fb-f6cbee21b642",
   "metadata": {},
   "outputs": [],
   "source": [
    "## 读取化妆品数据\n",
    "with open(\"real_cosmetics_sales_data.text\", encoding=\"utf-8\") as f:\n",
    "    real_cosmetics_sales = f.read()"
   ]
  },
  {
   "cell_type": "code",
   "execution_count": 20,
   "id": "dbe535b8-2bd8-4c31-91d7-eba8aa61b3ef",
   "metadata": {},
   "outputs": [],
   "source": [
    "from langchain.text_splitter import CharacterTextSplitter"
   ]
  },
  {
   "cell_type": "code",
   "execution_count": 21,
   "id": "a4f30d9b-9fc6-4860-a497-0aa8220b9284",
   "metadata": {},
   "outputs": [],
   "source": [
    "## 进行文本分割\n",
    "text_splitter = CharacterTextSplitter(        \n",
    "    separator = r'\\d+\\.',\n",
    "    chunk_size = 100,\n",
    "    chunk_overlap  = 0,\n",
    "    length_function = len,\n",
    "    is_separator_regex = True,\n",
    ")"
   ]
  },
  {
   "cell_type": "code",
   "execution_count": 23,
   "id": "530f3172-17a5-4924-ad17-284fbca422ae",
   "metadata": {},
   "outputs": [],
   "source": [
    "docs = text_splitter.create_documents([real_cosmetics_sales])"
   ]
  },
  {
   "cell_type": "code",
   "execution_count": 24,
   "id": "3956ec36-706e-4f43-88fc-d704f2984290",
   "metadata": {},
   "outputs": [
    {
     "data": {
      "text/plain": [
       "Document(page_content='[客户问题]：这款产品有抗衰老效果吗？\\n[销售回答]：是的，这款产品含有多种抗氧化成分，可以帮助减少细纹和皱纹，提升皮肤的弹性和紧致度。')"
      ]
     },
     "execution_count": 24,
     "metadata": {},
     "output_type": "execute_result"
    }
   ],
   "source": [
    "docs[1]"
   ]
  },
  {
   "cell_type": "code",
   "execution_count": 25,
   "id": "73b2d47a-27ae-4cd4-a72a-3809b4c22bff",
   "metadata": {},
   "outputs": [
    {
     "data": {
      "text/plain": [
       "100"
      ]
     },
     "execution_count": 25,
     "metadata": {},
     "output_type": "execute_result"
    }
   ],
   "source": [
    "len(docs)"
   ]
  },
  {
   "cell_type": "markdown",
   "id": "e4617858-ad9c-42eb-a4c3-6bfb7108cdd2",
   "metadata": {},
   "source": [
    "### 使用 Faiss 作为向量数据库，持久化存储化妆品销售 问答对（QA-Pair）"
   ]
  },
  {
   "cell_type": "code",
   "execution_count": 26,
   "id": "508c2ab2-e187-424f-a43c-ca3d3b1a0550",
   "metadata": {},
   "outputs": [],
   "source": [
    "from langchain.embeddings.openai import OpenAIEmbeddings\n",
    "from langchain.text_splitter import CharacterTextSplitter\n",
    "from langchain.vectorstores import FAISS\n",
    "\n",
    "db = FAISS.from_documents(docs, OpenAIEmbeddings())"
   ]
  },
  {
   "cell_type": "code",
   "execution_count": 14,
   "id": "250e0873-95e2-4372-98a5-68c0feb304bb",
   "metadata": {},
   "outputs": [],
   "source": [
    "query = \"你们的产品是否有天然成分\""
   ]
  },
  {
   "cell_type": "code",
   "execution_count": 15,
   "id": "0d18fcc6-c2be-434b-b8de-9648ac6f83f4",
   "metadata": {},
   "outputs": [],
   "source": [
    "answer_list = db.similarity_search(query)"
   ]
  },
  {
   "cell_type": "code",
   "execution_count": 16,
   "id": "e689667e-7a45-40d6-9eae-4e52cbc7daab",
   "metadata": {},
   "outputs": [
    {
     "name": "stdout",
     "output_type": "stream",
     "text": [
      "[客户问题]：你们的产品是否有天然成分？\n",
      "[销售回答]：我们的产品中含有大量天然成分，如植物提取物和天然油脂，确保温和无刺激，适合各种肤质。\n",
      "\n",
      "[客户问题]：这款产品的成分安全吗？\n",
      " [销售回答]：我们的产品经过严格的质量控制和安全测试，所有成分均符合国际标准，您可以放心使用。\n",
      "\n",
      "[客户问题]：你们的产品有没有动物测试？\n",
      "[销售回答]：我们的产品全部经过严格的安全测试，不进行任何动物实验，您可以放心使用。\n",
      "\n",
      "[客户问题]：这款产品会引起过敏吗？\n",
      " [销售回答]：我们的产品经过敏测试，成分温和，不易引起过敏，适合敏感肌肤使用。\n",
      "\n"
     ]
    }
   ],
   "source": [
    "for ans in answer_list:\n",
    "    print(ans.page_content + \"\\n\")"
   ]
  },
  {
   "cell_type": "code",
   "execution_count": 17,
   "id": "a6cc47bf-1566-472f-84d2-a46bd634907c",
   "metadata": {},
   "outputs": [],
   "source": [
    "db.save_local(\"real_cosmetics_sales\")"
   ]
  },
  {
   "cell_type": "markdown",
   "id": "9e26e6d7-259b-4ecf-9c72-027befba4e3b",
   "metadata": {},
   "source": [
    "#### 当向量数据库中没有合适答案时，使用大语言模型能力，且提供prompt对检索不到的问题进行回答"
   ]
  },
  {
   "cell_type": "code",
   "execution_count": 65,
   "id": "c26a16b0-9dca-40f5-8751-b42651e34f78",
   "metadata": {},
   "outputs": [],
   "source": [
    "from langchain.chains import RetrievalQA\n",
    "from langchain import LLMChain\n",
    "\n",
    "# 处理查询和备用逻辑\n",
    "def custom_retrieval_qa(question, retriever, llm, fallback_prompt):\n",
    "    # 检索器查找答案\n",
    "    docs = retriever.get_relevant_documents(question)\n",
    "    \n",
    "    # 如果查到对应文档，根据文档生成答案\n",
    "    if docs:\n",
    "        qa_chain = RetrievalQA.from_chain_type(llm, retriever=retriever)\n",
    "        return qa_chain.run(question)\n",
    "    \n",
    "    # 如果没查到文档，使用备用提示模板生成答案\n",
    "    else:\n",
    "        fallback_chain = LLMChain(prompt=fallback_prompt, llm=llm, output_key=\"fallback\", verbose=True)\n",
    "        return fallback_chain.invoke({'question': question}).get('fallback', '').strip()"
   ]
  },
  {
   "cell_type": "code",
   "execution_count": 66,
   "id": "35c624e8-f63e-43f9-9f1d-2c2b5372336c",
   "metadata": {},
   "outputs": [
    {
     "name": "stderr",
     "output_type": "stream",
     "text": [
      "c:\\ProgramData\\miniconda3\\envs\\langchain\\lib\\site-packages\\langchain_core\\vectorstores\\base.py:796: UserWarning: No relevant docs were retrieved using the relevance score threshold 0.8\n",
      "  warnings.warn(\n"
     ]
    },
    {
     "name": "stdout",
     "output_type": "stream",
     "text": [
      "\n",
      "\n",
      "\u001b[1m> Entering new LLMChain chain...\u001b[0m\n",
      "Prompt after formatting:\n",
      "\u001b[32;1m\u001b[1;3m你是一位化妆品销售。根据传入的问题，对问题做出回答。\n",
      "问题：动物实验\n",
      "答案：以下是对上述问题的回答：\u001b[0m\n",
      "\n",
      "\u001b[1m> Finished chain.\u001b[0m\n",
      "我们的公司非常重视动物的权益，我们的所有产品都没有进行过动物实验。我们坚决反对任何形式的动物虐待，包括动物实验。我们的产品安全性检测都是通过科学的实验室方法进行的，确保产品的安全性和有效性。\n"
     ]
    }
   ],
   "source": [
    "from langchain.prompts import PromptTemplate\n",
    "from langchain.chat_models import ChatOpenAI\n",
    "\n",
    "llm = ChatOpenAI(model_name=\"gpt-4\", temperature=0.5)\n",
    "\n",
    "template = \"\"\"你是一位化妆品销售。根据传入的问题，对问题做出回答。\n",
    "问题：{question}\n",
    "答案：以下是对上述问题的回答：\"\"\"\n",
    "\n",
    "fallback_prompt = PromptTemplate(\n",
    "    input_variables=[\"question\"],\n",
    "    template=template\n",
    ")\n",
    "\n",
    "question = \"动物实验\"\n",
    "\n",
    "# 示例检索器\n",
    "retriever = db.as_retriever(search_type=\"similarity_score_threshold\",\n",
    "                            search_kwargs={\"score_threshold\": 0.8})\n",
    "\n",
    "\n",
    "answer = custom_retrieval_qa(question, retriever, llm, fallback_prompt)\n",
    "\n",
    "print(answer)"
   ]
  },
  {
   "cell_type": "code",
   "execution_count": null,
   "id": "b0561536-7f5d-4028-8bcd-9200b6e10d00",
   "metadata": {},
   "outputs": [],
   "source": []
  }
 ],
 "metadata": {
  "kernelspec": {
   "display_name": "Python 3 (ipykernel)",
   "language": "python",
   "name": "python3"
  },
  "language_info": {
   "codemirror_mode": {
    "name": "ipython",
    "version": 3
   },
   "file_extension": ".py",
   "mimetype": "text/x-python",
   "name": "python",
   "nbconvert_exporter": "python",
   "pygments_lexer": "ipython3",
   "version": "3.10.14"
  }
 },
 "nbformat": 4,
 "nbformat_minor": 5
}
